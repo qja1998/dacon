{
 "cells": [
  {
   "cell_type": "code",
   "execution_count": null,
   "metadata": {},
   "outputs": [],
   "source": [
    "# https://github.com/ITMO-NSS-team/fedot-examples/blob/main/notebooks/latest/3_intro_ts_forecasting.ipynb"
   ]
  },
  {
   "cell_type": "code",
   "execution_count": 2,
   "metadata": {},
   "outputs": [],
   "source": [
    "# Additional imports \n",
    "import pandas as pd \n",
    "import numpy as np\n",
    "\n",
    "# Imports for creating plots\n",
    "import matplotlib.pyplot as plt\n",
    "from pylab import rcParams\n",
    "rcParams['figure.figsize'] = 18, 7\n",
    "\n",
    "import logging\n",
    "logging.raiseExceptions = False\n",
    "\n",
    "# Import data\n",
    "df = pd.read_csv('../data/preproc3_train.csv')\n",
    "df['Time'] = pd.to_datetime(df['Time'])\n",
    "\n",
    "# test_df = pd.read_csv('../data/preproc3_test.csv')\n",
    "# test_df['consumption'] = np.zeros(len(test_df))"
   ]
  },
  {
   "cell_type": "code",
   "execution_count": 2,
   "metadata": {},
   "outputs": [],
   "source": [
    "\n",
    "# Pipeline and nodes\n",
    "from fedot.core.pipelines.pipeline import Pipeline\n",
    "from fedot.core.pipelines.node import PrimaryNode, SecondaryNode\n",
    "\n",
    "# Data \n",
    "from fedot.core.data.data import InputData\n",
    "from fedot.core.data.data_split import train_test_data_setup\n",
    "from fedot.core.repository.dataset_types import DataTypesEnum\n",
    "\n",
    "# Tasks\n",
    "from fedot.core.repository.tasks import Task, TaskTypesEnum, TsForecastingParams\n",
    "\n",
    "# Metric\n",
    "from sklearn.metrics import mean_absolute_error"
   ]
  },
  {
   "cell_type": "code",
   "execution_count": 3,
   "metadata": {},
   "outputs": [],
   "source": [
    "forecast_length = 24 * 7"
   ]
  },
  {
   "cell_type": "code",
   "execution_count": 4,
   "metadata": {},
   "outputs": [],
   "source": [
    "# Wrapp data into InputData\n",
    "task = Task(TaskTypesEnum.ts_forecasting,\n",
    "                TsForecastingParams(forecast_length=forecast_length))\n",
    "\n",
    "# Get time series from dataframe\n",
    "features = np.array(df.drop('Solar radiation', axis=1))\n",
    "target = np.array(df['consumption'])\n",
    "input_data = InputData(idx=np.arange(0, len(target)),\n",
    "                       features=features,\n",
    "                       target=target,\n",
    "                       task=task,\n",
    "                       data_type=DataTypesEnum.ts)\n",
    "\n",
    "# Split data into train and test\n",
    "train_input, predict_input = train_test_data_setup(input_data)"
   ]
  },
  {
   "cell_type": "code",
   "execution_count": 3,
   "metadata": {},
   "outputs": [],
   "source": [
    "df.drop('Solar radiation', axis=1).to_csv('../data/preproc3_no_sol_train.csv', index=False)"
   ]
  },
  {
   "cell_type": "code",
   "execution_count": 11,
   "metadata": {},
   "outputs": [],
   "source": [
    "from fedot.api.main import Fedot\n",
    "from fedot.core.data.data import InputData\n",
    "from fedot.core.data.data_split import train_test_data_setup\n",
    "from fedot.core.repository.tasks import Task, TaskTypesEnum, TsForecastingParams\n",
    "\n",
    "# specify the task and the forecast length (required depth of forecast)\n",
    "task = Task(TaskTypesEnum.ts_forecasting,\n",
    "            TsForecastingParams(forecast_length=24*7))\n",
    "\n",
    "# load data from csv\n",
    "train_input = InputData.from_csv_time_series(task=task,\n",
    "                                             file_path='../data/preproc3_no_sol_train.csv',\n",
    "                                             delimiter=',',\n",
    "                                             target_column='consumption',\n",
    "                                             index_col='building_id',\n",
    "                                             possible_idx_keywords=['building_id', 'Time'])\n",
    "# split data for train and test\n",
    "train_data, test_data = train_test_data_setup(train_input)\n",
    "\n",
    "# init model for the time-series forecasting\n",
    "model = Fedot(problem='ts_forecasting', task_params=task.task_params, n_jobs=-1, show_progress=True, preset='gpu', cv_folds=5)\n",
    "\n"
   ]
  },
  {
   "cell_type": "code",
   "execution_count": 12,
   "metadata": {},
   "outputs": [],
   "source": [
    "# run AutoML model design\n",
    "pipeline = model.fit(train_data)\n",
    "# plot obtained pipeline\n",
    "pipeline.show()\n",
    "\n",
    "# use model to obtain out-of-sample forecast with one step\n",
    "forecast = model.forecast(test_data)\n",
    "print(model.get_metrics(metric_names=['smape', 'mae', 'mape'], target=test_data.target))\n",
    "\n",
    "# plot forecasting result\n",
    "model.plot_prediction()"
   ]
  },
  {
   "cell_type": "code",
   "execution_count": 5,
   "metadata": {},
   "outputs": [],
   "source": [
    "def get_two_branches_pipeline(lagged_param_1=10, lagged_param_2=10,\n",
    "                              model_1='ridge', model_2='ridge', model_3='ridge'):\n",
    "    \"\"\"\n",
    "    Pipeline looking like this\n",
    "    lagged -> model_1 \\\n",
    "                       \\\n",
    "                        model_3 -> final forecast\n",
    "                       /\n",
    "    lagged -> model_2 /\n",
    "    \"\"\"\n",
    "    # First level\n",
    "    node_lagged_1 = PrimaryNode('lagged')\n",
    "    node_lagged_1.parameters = {'window_size': lagged_param_1}\n",
    "    node_lagged_2 = PrimaryNode('lagged')\n",
    "    node_lagged_2.parameters = {'window_size': lagged_param_2}\n",
    "\n",
    "    # Second level\n",
    "    node_second_1 = SecondaryNode(model_1, nodes_from=[node_lagged_1])\n",
    "    node_second_2 = SecondaryNode(model_2, nodes_from=[node_lagged_2])\n",
    "\n",
    "    # Third level - root node\n",
    "    node_final = SecondaryNode(model_3, nodes_from=[node_second_1, node_second_2])\n",
    "    pipeline = Pipeline(node_final)\n",
    "    \n",
    "    return pipeline\n",
    "\n",
    "\n",
    "def plot_results(actual_time_series, predicted_values, len_train_data, y_name = 'Parameter'):\n",
    "    \"\"\"\n",
    "    Function for drawing plot with predictions\n",
    "    \n",
    "    :param actual_time_series: the entire array with one-dimensional data\n",
    "    :param predicted_values: array with predicted values\n",
    "    :param len_train_data: number of elements in the training sample\n",
    "    :param y_name: name of the y axis\n",
    "    \"\"\"\n",
    "    \n",
    "    plt.plot(np.arange(0, len(actual_time_series)), \n",
    "             actual_time_series, label = 'Actual values', c = 'green')\n",
    "    plt.plot(np.arange(len_train_data, len_train_data + len(predicted_values)), \n",
    "             predicted_values, label = 'Predicted', c = 'blue')\n",
    "    # Plot black line which divide our array into train and test\n",
    "    plt.plot([len_train_data, len_train_data],\n",
    "             [min(actual_time_series), max(actual_time_series)], c = 'black', linewidth = 1)\n",
    "    plt.ylabel(y_name, fontsize = 15)\n",
    "    plt.xlabel('Time index', fontsize = 15)\n",
    "    plt.legend(fontsize = 15, loc='upper left')\n",
    "    plt.grid()\n",
    "    plt.show()"
   ]
  },
  {
   "cell_type": "code",
   "execution_count": 6,
   "metadata": {},
   "outputs": [
    {
     "name": "stderr",
     "output_type": "stream",
     "text": [
      "c:\\Users\\qja19\\Anaconda3\\envs\\fedot\\lib\\site-packages\\statsmodels\\genmod\\families\\links.py:13: FutureWarning: The log link alias is deprecated. Use Log instead. The log link alias will be removed after the 0.15.0 release.\n",
      "  warnings.warn(\n",
      "c:\\Users\\qja19\\Anaconda3\\envs\\fedot\\lib\\site-packages\\statsmodels\\genmod\\families\\links.py:13: FutureWarning: The identity link alias is deprecated. Use Identity instead. The identity link alias will be removed after the 0.15.0 release.\n",
      "  warnings.warn(\n",
      "c:\\Users\\qja19\\Anaconda3\\envs\\fedot\\lib\\site-packages\\statsmodels\\genmod\\families\\links.py:13: FutureWarning: The inverse_power link alias is deprecated. Use InversePower instead. The inverse_power link alias will be removed after the 0.15.0 release.\n",
      "  warnings.warn(\n",
      "c:\\Users\\qja19\\Anaconda3\\envs\\fedot\\lib\\site-packages\\statsmodels\\genmod\\families\\links.py:13: FutureWarning: The inverse_squared link alias is deprecated. Use InverseSquared instead. The inverse_squared link alias will be removed after the 0.15.0 release.\n",
      "  warnings.warn(\n"
     ]
    },
    {
     "ename": "KeyboardInterrupt",
     "evalue": "",
     "output_type": "error",
     "traceback": [
      "\u001b[1;31m---------------------------------------------------------------------------\u001b[0m",
      "\u001b[1;31mKeyboardInterrupt\u001b[0m                         Traceback (most recent call last)",
      "Cell \u001b[1;32mIn[6], line 6\u001b[0m\n\u001b[0;32m      2\u001b[0m pipeline \u001b[39m=\u001b[39m get_two_branches_pipeline(lagged_param_1\u001b[39m=\u001b[39m\u001b[39m144\u001b[39m, \n\u001b[0;32m      3\u001b[0m                                      lagged_param_2\u001b[39m=\u001b[39m\u001b[39m12\u001b[39m)\n\u001b[0;32m      5\u001b[0m \u001b[39m# Fit\u001b[39;00m\n\u001b[1;32m----> 6\u001b[0m pipeline\u001b[39m.\u001b[39;49mfit(train_input)\n\u001b[0;32m      8\u001b[0m \u001b[39m# Make forecast\u001b[39;00m\n\u001b[0;32m      9\u001b[0m output \u001b[39m=\u001b[39m pipeline\u001b[39m.\u001b[39mpredict(predict_input)\n",
      "File \u001b[1;32mc:\\Users\\qja19\\Anaconda3\\envs\\fedot\\lib\\site-packages\\fedot\\core\\pipelines\\pipeline.py:191\u001b[0m, in \u001b[0;36mPipeline.fit\u001b[1;34m(self, input_data, time_constraint, n_jobs)\u001b[0m\n\u001b[0;32m    189\u001b[0m copied_input_data \u001b[39m=\u001b[39m \u001b[39mself\u001b[39m\u001b[39m.\u001b[39m_assign_data_to_nodes(copied_input_data)\n\u001b[0;32m    190\u001b[0m \u001b[39mif\u001b[39;00m time_constraint \u001b[39mis\u001b[39;00m \u001b[39mNone\u001b[39;00m:\n\u001b[1;32m--> 191\u001b[0m     train_predicted \u001b[39m=\u001b[39m \u001b[39mself\u001b[39;49m\u001b[39m.\u001b[39;49m_fit(input_data\u001b[39m=\u001b[39;49mcopied_input_data)\n\u001b[0;32m    192\u001b[0m \u001b[39melse\u001b[39;00m:\n\u001b[0;32m    193\u001b[0m     train_predicted \u001b[39m=\u001b[39m \u001b[39mself\u001b[39m\u001b[39m.\u001b[39m_fit_with_time_limit(input_data\u001b[39m=\u001b[39mcopied_input_data, time\u001b[39m=\u001b[39mtime_constraint)\n",
      "File \u001b[1;32mc:\\Users\\qja19\\Anaconda3\\envs\\fedot\\lib\\site-packages\\fedot\\core\\pipelines\\pipeline.py:111\u001b[0m, in \u001b[0;36mPipeline._fit\u001b[1;34m(self, input_data, process_state_dict, fitted_operations)\u001b[0m\n\u001b[0;32m    109\u001b[0m \u001b[39mwith\u001b[39;00m Timer() \u001b[39mas\u001b[39;00m t:\n\u001b[0;32m    110\u001b[0m     computation_time_update \u001b[39m=\u001b[39m \u001b[39mnot\u001b[39;00m \u001b[39mself\u001b[39m\u001b[39m.\u001b[39mroot_node\u001b[39m.\u001b[39mfitted_operation \u001b[39mor\u001b[39;00m \u001b[39mself\u001b[39m\u001b[39m.\u001b[39mcomputation_time \u001b[39mis\u001b[39;00m \u001b[39mNone\u001b[39;00m\n\u001b[1;32m--> 111\u001b[0m     train_predicted \u001b[39m=\u001b[39m \u001b[39mself\u001b[39;49m\u001b[39m.\u001b[39;49mroot_node\u001b[39m.\u001b[39;49mfit(input_data\u001b[39m=\u001b[39;49minput_data)\n\u001b[0;32m    112\u001b[0m     \u001b[39mif\u001b[39;00m computation_time_update:\n\u001b[0;32m    113\u001b[0m         \u001b[39mself\u001b[39m\u001b[39m.\u001b[39mcomputation_time \u001b[39m=\u001b[39m \u001b[39mround\u001b[39m(t\u001b[39m.\u001b[39mminutes_from_start, \u001b[39m3\u001b[39m)\n",
      "File \u001b[1;32mc:\\Users\\qja19\\Anaconda3\\envs\\fedot\\lib\\site-packages\\fedot\\core\\pipelines\\node.py:198\u001b[0m, in \u001b[0;36mPipelineNode.fit\u001b[1;34m(self, input_data)\u001b[0m\n\u001b[0;32m    188\u001b[0m \u001b[39m\u001b[39m\u001b[39m\"\"\"Runs training process in the node\u001b[39;00m\n\u001b[0;32m    189\u001b[0m \n\u001b[0;32m    190\u001b[0m \u001b[39mArgs:\u001b[39;00m\n\u001b[1;32m   (...)\u001b[0m\n\u001b[0;32m    194\u001b[0m \u001b[39m    OutputData: values predicted on the provided ``input_data``\u001b[39;00m\n\u001b[0;32m    195\u001b[0m \u001b[39m\"\"\"\u001b[39;00m\n\u001b[0;32m    196\u001b[0m \u001b[39mself\u001b[39m\u001b[39m.\u001b[39mlog\u001b[39m.\u001b[39mdebug(\u001b[39mf\u001b[39m\u001b[39m'\u001b[39m\u001b[39mTrying to fit pipeline node with operation: \u001b[39m\u001b[39m{\u001b[39;00m\u001b[39mself\u001b[39m\u001b[39m.\u001b[39moperation\u001b[39m}\u001b[39;00m\u001b[39m'\u001b[39m)\n\u001b[1;32m--> 198\u001b[0m input_data \u001b[39m=\u001b[39m \u001b[39mself\u001b[39;49m\u001b[39m.\u001b[39;49m_get_input_data(input_data\u001b[39m=\u001b[39;49minput_data, parent_operation\u001b[39m=\u001b[39;49m\u001b[39m'\u001b[39;49m\u001b[39mfit\u001b[39;49m\u001b[39m'\u001b[39;49m)\n\u001b[0;32m    200\u001b[0m \u001b[39mif\u001b[39;00m \u001b[39mself\u001b[39m\u001b[39m.\u001b[39mfitted_operation \u001b[39mis\u001b[39;00m \u001b[39mNone\u001b[39;00m:\n\u001b[0;32m    201\u001b[0m     \u001b[39mwith\u001b[39;00m Timer() \u001b[39mas\u001b[39;00m t:\n",
      "File \u001b[1;32mc:\\Users\\qja19\\Anaconda3\\envs\\fedot\\lib\\site-packages\\fedot\\core\\pipelines\\node.py:275\u001b[0m, in \u001b[0;36mPipelineNode._get_input_data\u001b[1;34m(self, input_data, parent_operation)\u001b[0m\n\u001b[0;32m    273\u001b[0m \u001b[39mdef\u001b[39;00m \u001b[39m_get_input_data\u001b[39m(\u001b[39mself\u001b[39m, input_data: InputData, parent_operation: \u001b[39mstr\u001b[39m):\n\u001b[0;32m    274\u001b[0m     \u001b[39mif\u001b[39;00m \u001b[39mself\u001b[39m\u001b[39m.\u001b[39mnodes_from:\n\u001b[1;32m--> 275\u001b[0m         input_data \u001b[39m=\u001b[39m \u001b[39mself\u001b[39;49m\u001b[39m.\u001b[39;49m_input_from_parents(input_data\u001b[39m=\u001b[39;49minput_data, parent_operation\u001b[39m=\u001b[39;49mparent_operation)\n\u001b[0;32m    276\u001b[0m     \u001b[39melse\u001b[39;00m:\n\u001b[0;32m    277\u001b[0m         \u001b[39mif\u001b[39;00m \u001b[39mself\u001b[39m\u001b[39m.\u001b[39mdirect_set:\n",
      "File \u001b[1;32mc:\\Users\\qja19\\Anaconda3\\envs\\fedot\\lib\\site-packages\\fedot\\core\\pipelines\\node.py:301\u001b[0m, in \u001b[0;36mPipelineNode._input_from_parents\u001b[1;34m(self, input_data, parent_operation)\u001b[0m\n\u001b[0;32m    297\u001b[0m \u001b[39mself\u001b[39m\u001b[39m.\u001b[39mlog\u001b[39m.\u001b[39mdebug(\u001b[39mf\u001b[39m\u001b[39m'\u001b[39m\u001b[39mFit all parent nodes in secondary node with operation: \u001b[39m\u001b[39m{\u001b[39;00m\u001b[39mself\u001b[39m\u001b[39m.\u001b[39moperation\u001b[39m}\u001b[39;00m\u001b[39m'\u001b[39m)\n\u001b[0;32m    299\u001b[0m parent_nodes \u001b[39m=\u001b[39m \u001b[39mself\u001b[39m\u001b[39m.\u001b[39m_nodes_from_with_fixed_order()\n\u001b[1;32m--> 301\u001b[0m parent_results, _ \u001b[39m=\u001b[39m _combine_parents(parent_nodes, input_data,\n\u001b[0;32m    302\u001b[0m                                      parent_operation)\n\u001b[0;32m    303\u001b[0m secondary_input \u001b[39m=\u001b[39m DataMerger\u001b[39m.\u001b[39mget(parent_results)\u001b[39m.\u001b[39mmerge()\n\u001b[0;32m    304\u001b[0m \u001b[39m# Update info about visited nodes\u001b[39;00m\n",
      "File \u001b[1;32mc:\\Users\\qja19\\Anaconda3\\envs\\fedot\\lib\\site-packages\\fedot\\core\\pipelines\\node.py:393\u001b[0m, in \u001b[0;36m_combine_parents\u001b[1;34m(parent_nodes, input_data, parent_operation)\u001b[0m\n\u001b[0;32m    391\u001b[0m     parent_results\u001b[39m.\u001b[39mappend(prediction)\n\u001b[0;32m    392\u001b[0m \u001b[39melif\u001b[39;00m parent_operation \u001b[39m==\u001b[39m \u001b[39m'\u001b[39m\u001b[39mfit\u001b[39m\u001b[39m'\u001b[39m:\n\u001b[1;32m--> 393\u001b[0m     prediction \u001b[39m=\u001b[39m parent\u001b[39m.\u001b[39;49mfit(input_data\u001b[39m=\u001b[39;49minput_data)\n\u001b[0;32m    394\u001b[0m     parent_results\u001b[39m.\u001b[39mappend(prediction)\n\u001b[0;32m    395\u001b[0m \u001b[39melse\u001b[39;00m:\n",
      "File \u001b[1;32mc:\\Users\\qja19\\Anaconda3\\envs\\fedot\\lib\\site-packages\\fedot\\core\\pipelines\\node.py:198\u001b[0m, in \u001b[0;36mPipelineNode.fit\u001b[1;34m(self, input_data)\u001b[0m\n\u001b[0;32m    188\u001b[0m \u001b[39m\u001b[39m\u001b[39m\"\"\"Runs training process in the node\u001b[39;00m\n\u001b[0;32m    189\u001b[0m \n\u001b[0;32m    190\u001b[0m \u001b[39mArgs:\u001b[39;00m\n\u001b[1;32m   (...)\u001b[0m\n\u001b[0;32m    194\u001b[0m \u001b[39m    OutputData: values predicted on the provided ``input_data``\u001b[39;00m\n\u001b[0;32m    195\u001b[0m \u001b[39m\"\"\"\u001b[39;00m\n\u001b[0;32m    196\u001b[0m \u001b[39mself\u001b[39m\u001b[39m.\u001b[39mlog\u001b[39m.\u001b[39mdebug(\u001b[39mf\u001b[39m\u001b[39m'\u001b[39m\u001b[39mTrying to fit pipeline node with operation: \u001b[39m\u001b[39m{\u001b[39;00m\u001b[39mself\u001b[39m\u001b[39m.\u001b[39moperation\u001b[39m}\u001b[39;00m\u001b[39m'\u001b[39m)\n\u001b[1;32m--> 198\u001b[0m input_data \u001b[39m=\u001b[39m \u001b[39mself\u001b[39;49m\u001b[39m.\u001b[39;49m_get_input_data(input_data\u001b[39m=\u001b[39;49minput_data, parent_operation\u001b[39m=\u001b[39;49m\u001b[39m'\u001b[39;49m\u001b[39mfit\u001b[39;49m\u001b[39m'\u001b[39;49m)\n\u001b[0;32m    200\u001b[0m \u001b[39mif\u001b[39;00m \u001b[39mself\u001b[39m\u001b[39m.\u001b[39mfitted_operation \u001b[39mis\u001b[39;00m \u001b[39mNone\u001b[39;00m:\n\u001b[0;32m    201\u001b[0m     \u001b[39mwith\u001b[39;00m Timer() \u001b[39mas\u001b[39;00m t:\n",
      "File \u001b[1;32mc:\\Users\\qja19\\Anaconda3\\envs\\fedot\\lib\\site-packages\\fedot\\core\\pipelines\\node.py:275\u001b[0m, in \u001b[0;36mPipelineNode._get_input_data\u001b[1;34m(self, input_data, parent_operation)\u001b[0m\n\u001b[0;32m    273\u001b[0m \u001b[39mdef\u001b[39;00m \u001b[39m_get_input_data\u001b[39m(\u001b[39mself\u001b[39m, input_data: InputData, parent_operation: \u001b[39mstr\u001b[39m):\n\u001b[0;32m    274\u001b[0m     \u001b[39mif\u001b[39;00m \u001b[39mself\u001b[39m\u001b[39m.\u001b[39mnodes_from:\n\u001b[1;32m--> 275\u001b[0m         input_data \u001b[39m=\u001b[39m \u001b[39mself\u001b[39;49m\u001b[39m.\u001b[39;49m_input_from_parents(input_data\u001b[39m=\u001b[39;49minput_data, parent_operation\u001b[39m=\u001b[39;49mparent_operation)\n\u001b[0;32m    276\u001b[0m     \u001b[39melse\u001b[39;00m:\n\u001b[0;32m    277\u001b[0m         \u001b[39mif\u001b[39;00m \u001b[39mself\u001b[39m\u001b[39m.\u001b[39mdirect_set:\n",
      "File \u001b[1;32mc:\\Users\\qja19\\Anaconda3\\envs\\fedot\\lib\\site-packages\\fedot\\core\\pipelines\\node.py:301\u001b[0m, in \u001b[0;36mPipelineNode._input_from_parents\u001b[1;34m(self, input_data, parent_operation)\u001b[0m\n\u001b[0;32m    297\u001b[0m \u001b[39mself\u001b[39m\u001b[39m.\u001b[39mlog\u001b[39m.\u001b[39mdebug(\u001b[39mf\u001b[39m\u001b[39m'\u001b[39m\u001b[39mFit all parent nodes in secondary node with operation: \u001b[39m\u001b[39m{\u001b[39;00m\u001b[39mself\u001b[39m\u001b[39m.\u001b[39moperation\u001b[39m}\u001b[39;00m\u001b[39m'\u001b[39m)\n\u001b[0;32m    299\u001b[0m parent_nodes \u001b[39m=\u001b[39m \u001b[39mself\u001b[39m\u001b[39m.\u001b[39m_nodes_from_with_fixed_order()\n\u001b[1;32m--> 301\u001b[0m parent_results, _ \u001b[39m=\u001b[39m _combine_parents(parent_nodes, input_data,\n\u001b[0;32m    302\u001b[0m                                      parent_operation)\n\u001b[0;32m    303\u001b[0m secondary_input \u001b[39m=\u001b[39m DataMerger\u001b[39m.\u001b[39mget(parent_results)\u001b[39m.\u001b[39mmerge()\n\u001b[0;32m    304\u001b[0m \u001b[39m# Update info about visited nodes\u001b[39;00m\n",
      "File \u001b[1;32mc:\\Users\\qja19\\Anaconda3\\envs\\fedot\\lib\\site-packages\\fedot\\core\\pipelines\\node.py:393\u001b[0m, in \u001b[0;36m_combine_parents\u001b[1;34m(parent_nodes, input_data, parent_operation)\u001b[0m\n\u001b[0;32m    391\u001b[0m     parent_results\u001b[39m.\u001b[39mappend(prediction)\n\u001b[0;32m    392\u001b[0m \u001b[39melif\u001b[39;00m parent_operation \u001b[39m==\u001b[39m \u001b[39m'\u001b[39m\u001b[39mfit\u001b[39m\u001b[39m'\u001b[39m:\n\u001b[1;32m--> 393\u001b[0m     prediction \u001b[39m=\u001b[39m parent\u001b[39m.\u001b[39;49mfit(input_data\u001b[39m=\u001b[39;49minput_data)\n\u001b[0;32m    394\u001b[0m     parent_results\u001b[39m.\u001b[39mappend(prediction)\n\u001b[0;32m    395\u001b[0m \u001b[39melse\u001b[39;00m:\n",
      "File \u001b[1;32mc:\\Users\\qja19\\Anaconda3\\envs\\fedot\\lib\\site-packages\\fedot\\core\\pipelines\\node.py:202\u001b[0m, in \u001b[0;36mPipelineNode.fit\u001b[1;34m(self, input_data)\u001b[0m\n\u001b[0;32m    200\u001b[0m \u001b[39mif\u001b[39;00m \u001b[39mself\u001b[39m\u001b[39m.\u001b[39mfitted_operation \u001b[39mis\u001b[39;00m \u001b[39mNone\u001b[39;00m:\n\u001b[0;32m    201\u001b[0m     \u001b[39mwith\u001b[39;00m Timer() \u001b[39mas\u001b[39;00m t:\n\u001b[1;32m--> 202\u001b[0m         \u001b[39mself\u001b[39m\u001b[39m.\u001b[39mfitted_operation, operation_predict \u001b[39m=\u001b[39m \u001b[39mself\u001b[39;49m\u001b[39m.\u001b[39;49moperation\u001b[39m.\u001b[39;49mfit(params\u001b[39m=\u001b[39;49m\u001b[39mself\u001b[39;49m\u001b[39m.\u001b[39;49m_parameters,\n\u001b[0;32m    203\u001b[0m                                                                       data\u001b[39m=\u001b[39;49minput_data)\n\u001b[0;32m    204\u001b[0m         \u001b[39mself\u001b[39m\u001b[39m.\u001b[39mfit_time_in_seconds \u001b[39m=\u001b[39m \u001b[39mround\u001b[39m(t\u001b[39m.\u001b[39mseconds_from_start, \u001b[39m3\u001b[39m)\n\u001b[0;32m    205\u001b[0m \u001b[39melse\u001b[39;00m:\n",
      "File \u001b[1;32mc:\\Users\\qja19\\Anaconda3\\envs\\fedot\\lib\\site-packages\\fedot\\core\\operations\\operation.py:87\u001b[0m, in \u001b[0;36mOperation.fit\u001b[1;34m(self, params, data)\u001b[0m\n\u001b[0;32m     83\u001b[0m \u001b[39mself\u001b[39m\u001b[39m.\u001b[39m_init(data\u001b[39m.\u001b[39mtask, params\u001b[39m=\u001b[39mparams, n_samples_data\u001b[39m=\u001b[39mdata\u001b[39m.\u001b[39mfeatures\u001b[39m.\u001b[39mshape[\u001b[39m0\u001b[39m])\n\u001b[0;32m     85\u001b[0m \u001b[39mself\u001b[39m\u001b[39m.\u001b[39mfitted_operation \u001b[39m=\u001b[39m \u001b[39mself\u001b[39m\u001b[39m.\u001b[39m_eval_strategy\u001b[39m.\u001b[39mfit(train_data\u001b[39m=\u001b[39mdata)\n\u001b[1;32m---> 87\u001b[0m predict_train \u001b[39m=\u001b[39m \u001b[39mself\u001b[39;49m\u001b[39m.\u001b[39;49mpredict_for_fit(\u001b[39mself\u001b[39;49m\u001b[39m.\u001b[39;49mfitted_operation, data, params)\n\u001b[0;32m     89\u001b[0m \u001b[39mreturn\u001b[39;00m \u001b[39mself\u001b[39m\u001b[39m.\u001b[39mfitted_operation, predict_train\n",
      "File \u001b[1;32mc:\\Users\\qja19\\Anaconda3\\envs\\fedot\\lib\\site-packages\\fedot\\core\\operations\\operation.py:117\u001b[0m, in \u001b[0;36mOperation.predict_for_fit\u001b[1;34m(self, fitted_operation, data, params, output_mode)\u001b[0m\n\u001b[0;32m    105\u001b[0m \u001b[39mdef\u001b[39;00m \u001b[39mpredict_for_fit\u001b[39m(\u001b[39mself\u001b[39m, fitted_operation, data: InputData, params: Optional[OperationParameters] \u001b[39m=\u001b[39m \u001b[39mNone\u001b[39;00m,\n\u001b[0;32m    106\u001b[0m                     output_mode: \u001b[39mstr\u001b[39m \u001b[39m=\u001b[39m \u001b[39m'\u001b[39m\u001b[39mdefault\u001b[39m\u001b[39m'\u001b[39m):\n\u001b[0;32m    107\u001b[0m \u001b[39m    \u001b[39m\u001b[39m\"\"\"This method is used for defining and running of the evaluation strategy\u001b[39;00m\n\u001b[0;32m    108\u001b[0m \u001b[39m    to predict with the data provided during fit stage\u001b[39;00m\n\u001b[0;32m    109\u001b[0m \n\u001b[1;32m   (...)\u001b[0m\n\u001b[0;32m    115\u001b[0m \u001b[39m            for example, is the operation predict probabilities or class labels\u001b[39;00m\n\u001b[0;32m    116\u001b[0m \u001b[39m    \"\"\"\u001b[39;00m\n\u001b[1;32m--> 117\u001b[0m     \u001b[39mreturn\u001b[39;00m \u001b[39mself\u001b[39;49m\u001b[39m.\u001b[39;49m_predict(fitted_operation, data, params, output_mode, is_fit_stage\u001b[39m=\u001b[39;49m\u001b[39mTrue\u001b[39;49;00m)\n",
      "File \u001b[1;32mc:\\Users\\qja19\\Anaconda3\\envs\\fedot\\lib\\site-packages\\fedot\\core\\operations\\operation.py:127\u001b[0m, in \u001b[0;36mOperation._predict\u001b[1;34m(self, fitted_operation, data, params, output_mode, is_fit_stage)\u001b[0m\n\u001b[0;32m    124\u001b[0m \u001b[39mself\u001b[39m\u001b[39m.\u001b[39m_init(data\u001b[39m.\u001b[39mtask, output_mode\u001b[39m=\u001b[39moutput_mode, params\u001b[39m=\u001b[39mparams, n_samples_data\u001b[39m=\u001b[39mdata\u001b[39m.\u001b[39mfeatures\u001b[39m.\u001b[39mshape[\u001b[39m0\u001b[39m])\n\u001b[0;32m    126\u001b[0m \u001b[39mif\u001b[39;00m is_fit_stage:\n\u001b[1;32m--> 127\u001b[0m     prediction \u001b[39m=\u001b[39m \u001b[39mself\u001b[39;49m\u001b[39m.\u001b[39;49m_eval_strategy\u001b[39m.\u001b[39;49mpredict_for_fit(\n\u001b[0;32m    128\u001b[0m         trained_operation\u001b[39m=\u001b[39;49mfitted_operation,\n\u001b[0;32m    129\u001b[0m         predict_data\u001b[39m=\u001b[39;49mdata)\n\u001b[0;32m    130\u001b[0m \u001b[39melse\u001b[39;00m:\n\u001b[0;32m    131\u001b[0m     prediction \u001b[39m=\u001b[39m \u001b[39mself\u001b[39m\u001b[39m.\u001b[39m_eval_strategy\u001b[39m.\u001b[39mpredict(\n\u001b[0;32m    132\u001b[0m         trained_operation\u001b[39m=\u001b[39mfitted_operation,\n\u001b[0;32m    133\u001b[0m         predict_data\u001b[39m=\u001b[39mdata)\n",
      "File \u001b[1;32mc:\\Users\\qja19\\Anaconda3\\envs\\fedot\\lib\\site-packages\\fedot\\core\\operations\\evaluation\\time_series.py:155\u001b[0m, in \u001b[0;36mFedotTsTransformingStrategy.predict_for_fit\u001b[1;34m(self, trained_operation, predict_data)\u001b[0m\n\u001b[0;32m    146\u001b[0m \u001b[39mdef\u001b[39;00m \u001b[39mpredict_for_fit\u001b[39m(\u001b[39mself\u001b[39m, trained_operation, predict_data: InputData) \u001b[39m-\u001b[39m\u001b[39m>\u001b[39m OutputData:\n\u001b[0;32m    147\u001b[0m \u001b[39m    \u001b[39m\u001b[39m\"\"\"\u001b[39;00m\n\u001b[0;32m    148\u001b[0m \u001b[39m    This method used for prediction of the target data during fit stage.\u001b[39;00m\n\u001b[0;32m    149\u001b[0m \n\u001b[1;32m   (...)\u001b[0m\n\u001b[0;32m    152\u001b[0m \u001b[39m    :return OutputData: passed data with new predicted target\u001b[39;00m\n\u001b[0;32m    153\u001b[0m \u001b[39m    \"\"\"\u001b[39;00m\n\u001b[1;32m--> 155\u001b[0m     prediction \u001b[39m=\u001b[39m trained_operation\u001b[39m.\u001b[39;49mtransform_for_fit(predict_data)\n\u001b[0;32m    156\u001b[0m     converted \u001b[39m=\u001b[39m \u001b[39mself\u001b[39m\u001b[39m.\u001b[39m_convert_to_output(prediction, predict_data)\n\u001b[0;32m    157\u001b[0m     \u001b[39mreturn\u001b[39;00m converted\n",
      "File \u001b[1;32mc:\\Users\\qja19\\Anaconda3\\envs\\fedot\\lib\\site-packages\\fedot\\core\\operations\\evaluation\\operation_implementations\\data_operations\\ts_transformations.py:93\u001b[0m, in \u001b[0;36mLaggedImplementation.transform_for_fit\u001b[1;34m(self, input_data)\u001b[0m\n\u001b[0;32m     90\u001b[0m features \u001b[39m=\u001b[39m np\u001b[39m.\u001b[39marray(new_input_data\u001b[39m.\u001b[39mfeatures)\n\u001b[0;32m     91\u001b[0m old_idx \u001b[39m=\u001b[39m new_input_data\u001b[39m.\u001b[39midx\n\u001b[1;32m---> 93\u001b[0m new_target, new_idx \u001b[39m=\u001b[39m \u001b[39mself\u001b[39;49m\u001b[39m.\u001b[39;49m_apply_transformation_for_fit(new_input_data, features,\n\u001b[0;32m     94\u001b[0m                                                          target, forecast_length, old_idx)\n\u001b[0;32m     96\u001b[0m \u001b[39m# Update target for Input Data\u001b[39;00m\n\u001b[0;32m     97\u001b[0m new_input_data\u001b[39m.\u001b[39mtarget \u001b[39m=\u001b[39m new_target\n",
      "File \u001b[1;32mc:\\Users\\qja19\\Anaconda3\\envs\\fedot\\lib\\site-packages\\fedot\\core\\operations\\evaluation\\operation_implementations\\data_operations\\ts_transformations.py:179\u001b[0m, in \u001b[0;36mLaggedImplementation._apply_transformation_for_fit\u001b[1;34m(self, input_data, features, target, forecast_length, old_idx)\u001b[0m\n\u001b[0;32m    177\u001b[0m \u001b[39m# Transform target\u001b[39;00m\n\u001b[0;32m    178\u001b[0m current_target \u001b[39m=\u001b[39m \u001b[39mself\u001b[39m\u001b[39m.\u001b[39m_current_target_for_each_ts(current_ts_id, target)\n\u001b[1;32m--> 179\u001b[0m new_idx, transformed_cols, new_target \u001b[39m=\u001b[39m prepare_target(all_idx\u001b[39m=\u001b[39;49minput_data\u001b[39m.\u001b[39;49midx,\n\u001b[0;32m    180\u001b[0m                                                        idx\u001b[39m=\u001b[39;49mnew_idx,\n\u001b[0;32m    181\u001b[0m                                                        features_columns\u001b[39m=\u001b[39;49mtransformed_cols,\n\u001b[0;32m    182\u001b[0m                                                        target\u001b[39m=\u001b[39;49mcurrent_target,\n\u001b[0;32m    183\u001b[0m                                                        forecast_length\u001b[39m=\u001b[39;49mforecast_length)\n\u001b[0;32m    184\u001b[0m \u001b[39mif\u001b[39;00m current_ts_id \u001b[39m==\u001b[39m \u001b[39m0\u001b[39m:\n\u001b[0;32m    185\u001b[0m     \u001b[39m# Init full lagged table\u001b[39;00m\n\u001b[0;32m    186\u001b[0m     all_transformed_features \u001b[39m=\u001b[39m transformed_cols\n",
      "File \u001b[1;32mc:\\Users\\qja19\\Anaconda3\\envs\\fedot\\lib\\site-packages\\fedot\\core\\operations\\evaluation\\operation_implementations\\data_operations\\ts_transformations.py:844\u001b[0m, in \u001b[0;36mprepare_target\u001b[1;34m(all_idx, idx, features_columns, target, forecast_length)\u001b[0m\n\u001b[0;32m    841\u001b[0m idx \u001b[39m=\u001b[39m idx[: \u001b[39m-\u001b[39m\u001b[39m1\u001b[39m]\n\u001b[0;32m    843\u001b[0m \u001b[39m# Update target (clip first \"window size\" values)\u001b[39;00m\n\u001b[1;32m--> 844\u001b[0m row_nums \u001b[39m=\u001b[39m [\u001b[39mlist\u001b[39m(all_idx)\u001b[39m.\u001b[39mindex(i) \u001b[39mfor\u001b[39;00m i \u001b[39min\u001b[39;00m idx]\n\u001b[0;32m    845\u001b[0m ts_target \u001b[39m=\u001b[39m target[row_nums]\n\u001b[0;32m    847\u001b[0m \u001b[39m# Multi-target transformation\u001b[39;00m\n",
      "File \u001b[1;32mc:\\Users\\qja19\\Anaconda3\\envs\\fedot\\lib\\site-packages\\fedot\\core\\operations\\evaluation\\operation_implementations\\data_operations\\ts_transformations.py:844\u001b[0m, in \u001b[0;36m<listcomp>\u001b[1;34m(.0)\u001b[0m\n\u001b[0;32m    841\u001b[0m idx \u001b[39m=\u001b[39m idx[: \u001b[39m-\u001b[39m\u001b[39m1\u001b[39m]\n\u001b[0;32m    843\u001b[0m \u001b[39m# Update target (clip first \"window size\" values)\u001b[39;00m\n\u001b[1;32m--> 844\u001b[0m row_nums \u001b[39m=\u001b[39m [\u001b[39mlist\u001b[39m(all_idx)\u001b[39m.\u001b[39mindex(i) \u001b[39mfor\u001b[39;00m i \u001b[39min\u001b[39;00m idx]\n\u001b[0;32m    845\u001b[0m ts_target \u001b[39m=\u001b[39m target[row_nums]\n\u001b[0;32m    847\u001b[0m \u001b[39m# Multi-target transformation\u001b[39;00m\n",
      "\u001b[1;31mKeyboardInterrupt\u001b[0m: "
     ]
    }
   ],
   "source": [
    "# Initialise pipeline for making forecasting\n",
    "pipeline = get_two_branches_pipeline(lagged_param_1=144, \n",
    "                                     lagged_param_2=12)\n",
    "\n",
    "# Fit\n",
    "pipeline.fit(train_input)\n",
    "\n",
    "# Make forecast\n",
    "output = pipeline.predict(predict_input)\n",
    "forecast = np.ravel(np.array(output.predict))"
   ]
  },
  {
   "cell_type": "code",
   "execution_count": null,
   "metadata": {},
   "outputs": [],
   "source": [
    "plot_results(actual_time_series = target,\n",
    "             predicted_values = forecast, \n",
    "             len_train_data = len(target)-forecast_length)\n",
    "\n",
    "# Print MAE metric\n",
    "print(f'Mean absolute error: {mean_absolute_error(predict_input.target, forecast):.3f}')"
   ]
  },
  {
   "cell_type": "code",
   "execution_count": null,
   "metadata": {},
   "outputs": [],
   "source": [
    "from fedot.core.pipelines.tuning.tuner_builder import TunerBuilder\n",
    "from golem.core.tuning.simultaneous import SimultaneousTuner\n",
    "from fedot.core.repository.quality_metrics_repository import \\\n",
    "    MetricsRepository, RegressionMetricsEnum\n",
    "\n",
    "\n",
    "init_pipeline = get_two_branches_pipeline()\n",
    "\n",
    "# Start tuning all nodes in the pipeline \n",
    "tuner = TunerBuilder(train_input.task)\\\n",
    "        .with_tuner(SimultaneousTuner)\\\n",
    "        .with_metric(RegressionMetricsEnum.MAE)\\\n",
    "        .with_iterations(50) \\\n",
    "        .build(train_input)\n",
    "tuned_pipeline = tuner.tune(init_pipeline)\n",
    "\n",
    "#final fit\n",
    "tuned_pipeline.fit(train_input)\n",
    "print('Pipeline tuned')"
   ]
  },
  {
   "cell_type": "code",
   "execution_count": null,
   "metadata": {},
   "outputs": [],
   "source": [
    "# Make prediction\n",
    "tuned_output = tuned_pipeline.predict(predict_input)\n",
    "tuned_forecast = np.ravel(np.array(tuned_output.predict))\n",
    "\n",
    "\n",
    "plot_results(actual_time_series = traffic,\n",
    "             predicted_values = tuned_forecast, \n",
    "             len_train_data = len(traffic)-forecast_length)\n",
    "\n",
    "# Print MAE metric\n",
    "print(f'Mean absolute error: {mean_absolute_error(predict_input.target, tuned_forecast):.3f}')"
   ]
  },
  {
   "cell_type": "code",
   "execution_count": null,
   "metadata": {},
   "outputs": [],
   "source": [
    "tuned_pipeline.print_structure()"
   ]
  },
  {
   "cell_type": "code",
   "execution_count": null,
   "metadata": {},
   "outputs": [],
   "source": []
  }
 ],
 "metadata": {
  "kernelspec": {
   "display_name": "fedot",
   "language": "python",
   "name": "python3"
  },
  "language_info": {
   "codemirror_mode": {
    "name": "ipython",
    "version": 3
   },
   "file_extension": ".py",
   "mimetype": "text/x-python",
   "name": "python",
   "nbconvert_exporter": "python",
   "pygments_lexer": "ipython3",
   "version": "3.11.4"
  },
  "orig_nbformat": 4
 },
 "nbformat": 4,
 "nbformat_minor": 2
}

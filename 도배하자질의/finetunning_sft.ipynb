{
 "cells": [
  {
   "cell_type": "code",
   "execution_count": 21,
   "metadata": {},
   "outputs": [],
   "source": [
    "# https://huggingface.co/docs/trl/sft_trainer"
   ]
  },
  {
   "cell_type": "code",
   "execution_count": 22,
   "metadata": {},
   "outputs": [],
   "source": [
    "import torch\n",
    "import random\n",
    "import torch.backends.cudnn as cudnn\n",
    "\n",
    "torch.manual_seed(0)\n",
    "torch.cuda.manual_seed(0)\n",
    "torch.cuda.manual_seed_all(0)\n",
    "cudnn.benchmark = False\n",
    "cudnn.deterministic = True\n",
    "random.seed(0)\n",
    "\n",
    "import torch\n",
    "from transformers import AutoModelForCausalLM, AutoTokenizer, TrainingArguments\n",
    "\n",
    "import os\n",
    "# os.environ['CUDA_VISIBLE_DEVICES']=\"0\""
   ]
  },
  {
   "cell_type": "code",
   "execution_count": 23,
   "metadata": {},
   "outputs": [
    {
     "name": "stderr",
     "output_type": "stream",
     "text": [
      "Special tokens have been added in the vocabulary, make sure the associated word embeddings are fine-tuned or trained.\n"
     ]
    }
   ],
   "source": [
    "max_length = 512\n",
    "MODEL = \"EleutherAI/polyglot-ko-1.3b\"\n",
    "MODEL = os.path.join('model/further_train', \"checkpoint-last\")\n",
    "# MODEL = \"facebook/xglm-564M\"\n",
    "# MODEL = \"facebook/xglm-1.7B\"\n",
    "# MODEL = \"ai-forever/mGPT\"\n",
    "# MODEL = \"maywell/Synatra-42dot-1.3B\"\n",
    "\n",
    "model = AutoModelForCausalLM.from_pretrained(\n",
    "    MODEL,\n",
    "    torch_dtype=torch.bfloat16,\n",
    "    low_cpu_mem_usage=True,\n",
    ")\n",
    "# model = model.half()\n",
    "\n",
    "tokenizer = AutoTokenizer.from_pretrained(MODEL)"
   ]
  },
  {
   "cell_type": "code",
   "execution_count": 24,
   "metadata": {},
   "outputs": [],
   "source": [
    "tokenizer.model_max_length = max_length\n",
    "tokenizer.max_len = max_length"
   ]
  },
  {
   "cell_type": "code",
   "execution_count": 25,
   "metadata": {},
   "outputs": [],
   "source": [
    "# from datasets import load_dataset\n",
    "# dataset = load_dataset(\"csv\", data_files=\"./data/preproc_train.csv\", split=\"train\").\n",
    "# dataset['question']"
   ]
  },
  {
   "cell_type": "code",
   "execution_count": 26,
   "metadata": {},
   "outputs": [],
   "source": [
    "from datasets import load_dataset\n",
    "from transformers import DataCollatorForLanguageModeling\n",
    "from transformers import Trainer, TrainingArguments\n",
    "\n",
    "raw_datasets = load_dataset(\"csv\", data_files=\"./data/add_data/preproc_dictionary.csv\", split=\"train\")"
   ]
  },
  {
   "cell_type": "code",
   "execution_count": 27,
   "metadata": {},
   "outputs": [
    {
     "name": "stderr",
     "output_type": "stream",
     "text": [
      "Map:   0%|          | 0/6666 [00:00<?, ? examples/s]Token indices sequence length is longer than the specified maximum sequence length for this model (651 > 512). Running this sequence through the model will result in indexing errors\n",
      "Map: 100%|██████████| 6666/6666 [00:00<00:00, 17449.96 examples/s]\n"
     ]
    },
    {
     "data": {
      "text/plain": [
       "Dataset({\n",
       "    features: ['text', 'input_ids'],\n",
       "    num_rows: 6666\n",
       "})"
      ]
     },
     "execution_count": 27,
     "metadata": {},
     "output_type": "execute_result"
    }
   ],
   "source": [
    "def tokenize(element):\n",
    "    outputs = tokenizer(\n",
    "        element['text']\n",
    "    )\n",
    "    \n",
    "    input_batch = []\n",
    "    for input_ids in outputs['input_ids']:\n",
    "        input_batch.append(input_ids)\n",
    "    return {\"input_ids\": input_batch}\n",
    "\n",
    "\n",
    "tokenized_datasets = raw_datasets.map(tokenize, batched=True)\n",
    "tokenized_datasets"
   ]
  },
  {
   "cell_type": "code",
   "execution_count": 28,
   "metadata": {},
   "outputs": [],
   "source": [
    "data_collator = DataCollatorForLanguageModeling(tokenizer, mlm=False)\n",
    "\n",
    "args = TrainingArguments(\n",
    "    output_dir=\"model/further_train\",\n",
    "    per_device_train_batch_size=1,\n",
    "    # per_device_eval_batch_size=32,\n",
    "    # evaluation_strategy=\"steps\",\n",
    "    # eval_steps=5000,\n",
    "    # logging_steps=5000,\n",
    "    gradient_accumulation_steps=8,\n",
    "    num_train_epochs=2,\n",
    "    weight_decay=0.1,\n",
    "    warmup_steps=1000,\n",
    "    lr_scheduler_type=\"cosine\",\n",
    "    learning_rate=5e-4,\n",
    "    save_steps=5000,\n",
    "    save_total_limit=1,\n",
    "    fp16=True,\n",
    ")\n",
    "\n",
    "trainer = Trainer(\n",
    "    model=model,\n",
    "    tokenizer=tokenizer,\n",
    "    args=args,\n",
    "    data_collator=data_collator,\n",
    "    train_dataset=tokenized_datasets,\n",
    "    # eval_dataset=tokenized_datasets[\"valid\"],\n",
    ")"
   ]
  },
  {
   "cell_type": "code",
   "execution_count": 29,
   "metadata": {},
   "outputs": [
    {
     "name": "stderr",
     "output_type": "stream",
     "text": [
      "  0%|          | 0/416 [00:00<?, ?it/s]c:\\Users\\kwon\\anaconda3\\envs\\papering\\Lib\\site-packages\\torch\\nn\\parallel\\_functions.py:68: UserWarning: Was asked to gather along dimension 0, but all input tensors were scalars; will instead unsqueeze and return a vector.\n",
      "  warnings.warn('Was asked to gather along dimension 0, but all '\n",
      "c:\\Users\\kwon\\anaconda3\\envs\\papering\\Lib\\site-packages\\torch\\cuda\\nccl.py:15: UserWarning: PyTorch is not compiled with NCCL support\n",
      "  warnings.warn(\"PyTorch is not compiled with NCCL support\")\n",
      "100%|██████████| 416/416 [3:07:56<00:00, 27.11s/it]  "
     ]
    },
    {
     "name": "stdout",
     "output_type": "stream",
     "text": [
      "{'train_runtime': 11276.8747, 'train_samples_per_second': 1.182, 'train_steps_per_second': 0.037, 'train_loss': 1.9272014911358173, 'epoch': 2.0}\n"
     ]
    },
    {
     "name": "stderr",
     "output_type": "stream",
     "text": [
      "\n"
     ]
    },
    {
     "data": {
      "text/plain": [
       "TrainOutput(global_step=416, training_loss=1.9272014911358173, metrics={'train_runtime': 11276.8747, 'train_samples_per_second': 1.182, 'train_steps_per_second': 0.037, 'train_loss': 1.9272014911358173, 'epoch': 2.0})"
      ]
     },
     "execution_count": 29,
     "metadata": {},
     "output_type": "execute_result"
    }
   ],
   "source": [
    "trainer.train()"
   ]
  },
  {
   "cell_type": "code",
   "execution_count": 30,
   "metadata": {},
   "outputs": [
    {
     "data": {
      "text/plain": [
       "('model/further_train\\\\checkpoint-last\\\\tokenizer_config.json',\n",
       " 'model/further_train\\\\checkpoint-last\\\\special_tokens_map.json',\n",
       " 'model/further_train\\\\checkpoint-last\\\\tokenizer.json')"
      ]
     },
     "execution_count": 30,
     "metadata": {},
     "output_type": "execute_result"
    }
   ],
   "source": [
    "import os\n",
    "model.save_pretrained(os.path.join('model/further_train', \"checkpoint-last\"))\n",
    "tokenizer.save_pretrained(os.path.join('model/further_train', \"checkpoint-last\"))"
   ]
  },
  {
   "cell_type": "code",
   "execution_count": 31,
   "metadata": {},
   "outputs": [],
   "source": [
    "import gc\n",
    "gc.collect()\n",
    "torch.cuda.empty_cache()"
   ]
  },
  {
   "cell_type": "code",
   "execution_count": 32,
   "metadata": {},
   "outputs": [
    {
     "name": "stderr",
     "output_type": "stream",
     "text": [
      "Special tokens have been added in the vocabulary, make sure the associated word embeddings are fine-tuned or trained.\n",
      "  0%|          | 0/1005 [00:00<?, ?it/s]c:\\Users\\kwon\\anaconda3\\envs\\papering\\Lib\\site-packages\\torch\\nn\\parallel\\_functions.py:68: UserWarning: Was asked to gather along dimension 0, but all input tensors were scalars; will instead unsqueeze and return a vector.\n",
      "  warnings.warn('Was asked to gather along dimension 0, but all '\n",
      "c:\\Users\\kwon\\anaconda3\\envs\\papering\\Lib\\site-packages\\torch\\cuda\\nccl.py:15: UserWarning: PyTorch is not compiled with NCCL support\n",
      "  warnings.warn(\"PyTorch is not compiled with NCCL support\")\n",
      " 20%|█▉        | 200/1005 [1:19:59<5:17:01, 23.63s/it]"
     ]
    },
    {
     "name": "stdout",
     "output_type": "stream",
     "text": [
      "{'loss': 1.2091, 'learning_rate': 8.00995024875622e-05, 'epoch': 0.99}\n"
     ]
    },
    {
     "name": "stderr",
     "output_type": "stream",
     "text": [
      " 40%|███▉      | 400/1005 [2:40:07<4:05:52, 24.38s/it]"
     ]
    },
    {
     "name": "stdout",
     "output_type": "stream",
     "text": [
      "{'loss': 0.4157, 'learning_rate': 6.019900497512438e-05, 'epoch': 1.99}\n"
     ]
    },
    {
     "name": "stderr",
     "output_type": "stream",
     "text": [
      " 50%|████▉     | 500/1005 [3:20:01<3:22:01, 24.00s/it]c:\\Users\\kwon\\anaconda3\\envs\\papering\\Lib\\site-packages\\torch\\nn\\parallel\\_functions.py:68: UserWarning: Was asked to gather along dimension 0, but all input tensors were scalars; will instead unsqueeze and return a vector.\n",
      "  warnings.warn('Was asked to gather along dimension 0, but all '\n",
      "c:\\Users\\kwon\\anaconda3\\envs\\papering\\Lib\\site-packages\\torch\\cuda\\nccl.py:15: UserWarning: PyTorch is not compiled with NCCL support\n",
      "  warnings.warn(\"PyTorch is not compiled with NCCL support\")\n",
      " 60%|█████▉    | 600/1005 [4:00:20<2:41:42, 23.96s/it]"
     ]
    },
    {
     "name": "stdout",
     "output_type": "stream",
     "text": [
      "{'loss': 0.1186, 'learning_rate': 4.029850746268657e-05, 'epoch': 2.98}\n"
     ]
    },
    {
     "name": "stderr",
     "output_type": "stream",
     "text": [
      " 80%|███████▉  | 800/1005 [5:20:28<1:22:53, 24.26s/it]"
     ]
    },
    {
     "name": "stdout",
     "output_type": "stream",
     "text": [
      "{'loss': 0.0541, 'learning_rate': 2.0398009950248755e-05, 'epoch': 3.98}\n"
     ]
    },
    {
     "name": "stderr",
     "output_type": "stream",
     "text": [
      "100%|█████████▉| 1000/1005 [6:40:55<02:04, 24.86s/it] "
     ]
    },
    {
     "name": "stdout",
     "output_type": "stream",
     "text": [
      "{'loss': 0.0367, 'learning_rate': 4.975124378109453e-07, 'epoch': 4.97}\n"
     ]
    },
    {
     "name": "stderr",
     "output_type": "stream",
     "text": [
      "c:\\Users\\kwon\\anaconda3\\envs\\papering\\Lib\\site-packages\\torch\\nn\\parallel\\_functions.py:68: UserWarning: Was asked to gather along dimension 0, but all input tensors were scalars; will instead unsqueeze and return a vector.\n",
      "  warnings.warn('Was asked to gather along dimension 0, but all '\n",
      "c:\\Users\\kwon\\anaconda3\\envs\\papering\\Lib\\site-packages\\torch\\cuda\\nccl.py:15: UserWarning: PyTorch is not compiled with NCCL support\n",
      "  warnings.warn(\"PyTorch is not compiled with NCCL support\")\n",
      "100%|██████████| 1005/1005 [6:43:20<00:00, 24.08s/it]"
     ]
    },
    {
     "name": "stdout",
     "output_type": "stream",
     "text": [
      "{'train_runtime': 24200.4037, 'train_samples_per_second': 1.331, 'train_steps_per_second': 0.042, 'train_loss': 0.3652077594206701, 'epoch': 4.99}\n"
     ]
    },
    {
     "name": "stderr",
     "output_type": "stream",
     "text": [
      "\n"
     ]
    },
    {
     "data": {
      "text/plain": [
       "TrainOutput(global_step=1005, training_loss=0.3652077594206701, metrics={'train_runtime': 24200.4037, 'train_samples_per_second': 1.331, 'train_steps_per_second': 0.042, 'train_loss': 0.3652077594206701, 'epoch': 4.99})"
      ]
     },
     "execution_count": 32,
     "metadata": {},
     "output_type": "execute_result"
    }
   ],
   "source": [
    "from trl import SFTTrainer, DataCollatorForCompletionOnlyLM\n",
    "# from peft import LoraConfig\n",
    "\n",
    "MODEL_PATH = \"model/\"\n",
    "\n",
    "DEBUG = False\n",
    "if DEBUG:\n",
    "    epochs = 1\n",
    "    dataset = load_dataset(\"csv\", data_files=\"./data/preproc_train_debug.csv\", split=\"train\")\n",
    "else:\n",
    "    epochs = 5\n",
    "    dataset = load_dataset(\"csv\", data_files=\"./data/preproc_train.csv\", split=\"train\")\n",
    "\n",
    "def formatting_prompts_func(example):\n",
    "    output_texts = []\n",
    "    for i in range(len(example['quenstion'])):\n",
    "        text = f\"\"\"###질문: {example['quenstion'][i]}\n",
    "###답변: {example['answer'][i]}\"\"\"\n",
    "        output_texts.append(text)\n",
    "    return output_texts\n",
    "\n",
    "# instruction_template = \"###질문:\"\n",
    "response_template = \"###답변:\"\n",
    "collator = DataCollatorForCompletionOnlyLM(\n",
    "    # instruction_template=instruction_template,\n",
    "    response_template=response_template,\n",
    "    tokenizer=tokenizer)\n",
    "\n",
    "training_args = TrainingArguments(\n",
    "    learning_rate=1e-4,\n",
    "    output_dir=MODEL_PATH + MODEL + \"_sft_\" + str(epochs),         # output directory to where save model checkpoint\n",
    "    # evaluation_strategy=\"steps\",    # evaluate each `logging_steps` steps\n",
    "    overwrite_output_dir=True,\n",
    "    num_train_epochs=epochs,            # number of training epochs, feel free to tweak\n",
    "    per_device_train_batch_size=1, # the training batch size, put it as high as your GPU memory fits\n",
    "    gradient_accumulation_steps=8,  # accumulating the gradients before updating the weights\n",
    "    # per_device_eval_batch_size=16,  # evaluation batch size\n",
    "    logging_steps=200,             # evaluate, log and save model checkpoints every 1000 step\n",
    "    # save_steps=50000,\n",
    "    fp16=True,                      # memory save\n",
    "    # weight_decay=0.01,\n",
    "    # warmup_steps=2970,\n",
    "    #dataloader_num_workers=2,\n",
    "#     remove_unused_columns=False\n",
    "    #optim=\"adafactor\",\n",
    "    # load_best_model_at_end=True,  # whether to load the best model (in terms of loss) at the end of training\n",
    "    save_total_limit=2,           # whether you don't have much space so you let only 3 model weights saved in the disk\n",
    "#     report_to=False               # when you don't want to log with wandb\n",
    ")\n",
    "\n",
    "trainer = SFTTrainer(\n",
    "    model,\n",
    "    train_dataset=dataset,\n",
    "    args=training_args,\n",
    "    formatting_func=formatting_prompts_func,\n",
    "    data_collator=collator,\n",
    "    max_seq_length=max_length,\n",
    ")\n",
    "\n",
    "trainer.train()"
   ]
  },
  {
   "cell_type": "code",
   "execution_count": 33,
   "metadata": {},
   "outputs": [],
   "source": [
    "# import random\n",
    "# import pandas as pd\n",
    "\n",
    "# train_df = pd.read_csv('./data/train.csv')\n",
    "# idx = random.randint(0, 664)\n",
    "# data = train_df.iloc[1, 1:3]\n",
    "# ans = train_df.iloc[1, 4]\n",
    "# q1, q2 = data\n",
    "# tokened = tokenizer(q1, return_tensors='pt').to(device=f\"cuda\")\n",
    "# del tokened['token_type_ids']\n",
    "# result = model(**tokened)\n",
    "# result.logits"
   ]
  },
  {
   "cell_type": "code",
   "execution_count": 34,
   "metadata": {},
   "outputs": [
    {
     "data": {
      "text/plain": [
       "('model/model/further_train\\\\checkpoint-last_f-sft_5\\\\checkpoint-last\\\\tokenizer_config.json',\n",
       " 'model/model/further_train\\\\checkpoint-last_f-sft_5\\\\checkpoint-last\\\\special_tokens_map.json',\n",
       " 'model/model/further_train\\\\checkpoint-last_f-sft_5\\\\checkpoint-last\\\\tokenizer.json')"
      ]
     },
     "execution_count": 34,
     "metadata": {},
     "output_type": "execute_result"
    }
   ],
   "source": [
    "import os\n",
    "model.save_pretrained(os.path.join(MODEL_PATH + MODEL + \"_f-sft_\" + str(epochs), \"checkpoint-last\"))\n",
    "tokenizer.save_pretrained(os.path.join(MODEL_PATH + MODEL + \"_f-sft_\" + str(epochs), \"checkpoint-last\"))"
   ]
  },
  {
   "cell_type": "code",
   "execution_count": null,
   "metadata": {},
   "outputs": [],
   "source": []
  }
 ],
 "metadata": {
  "kernelspec": {
   "display_name": "papering",
   "language": "python",
   "name": "python3"
  },
  "language_info": {
   "codemirror_mode": {
    "name": "ipython",
    "version": 3
   },
   "file_extension": ".py",
   "mimetype": "text/x-python",
   "name": "python",
   "nbconvert_exporter": "python",
   "pygments_lexer": "ipython3",
   "version": "3.11.7"
  }
 },
 "nbformat": 4,
 "nbformat_minor": 2
}
